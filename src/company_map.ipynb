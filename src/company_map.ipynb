{
 "cells": [
  {
   "cell_type": "code",
   "execution_count": 8,
   "id": "755bb371",
   "metadata": {},
   "outputs": [
    {
     "name": "stdout",
     "output_type": "stream",
     "text": [
      "✅ 클러스터 지도 저장 완료: company_address_map.html\n"
     ]
    }
   ],
   "source": [
    "from folium.plugins import MarkerCluster\n",
    "import pandas as pd\n",
    "import folium\n",
    "\n",
    "# 데이터 로딩\n",
    "df = pd.read_csv(\"../data/Data_saramin_with_coordinates.csv\", encoding='utf-8')\n",
    "df['위도'] = pd.to_numeric(df['위도'], errors='coerce')\n",
    "df['경도'] = pd.to_numeric(df['경도'], errors='coerce')\n",
    "df_valid = df.dropna(subset=['위도', '경도'])\n",
    "\n",
    "# 지도 초기화\n",
    "map_center = df_valid[['위도', '경도']].mean().tolist()\n",
    "m = folium.Map(location=map_center, zoom_start=11)\n",
    "\n",
    "# 클러스터 생성\n",
    "marker_cluster = MarkerCluster().add_to(m)\n",
    "\n",
    "# 마커 추가 (클러스터에)\n",
    "for idx, row in df_valid.iterrows():\n",
    "    lat, lon = row['위도'], row['경도']\n",
    "    address = row.get('주소', '주소 없음')\n",
    "\n",
    "    folium.Marker(\n",
    "        [lat, lon]\n",
    "        #popup=f\"Index: {idx}<br>주소: {address}\",\n",
    "        #tooltip=address\n",
    "    ).add_to(marker_cluster)\n",
    "\n",
    "# 저장\n",
    "m.save(\"company_address_map.html\")\n",
    "print(\"✅ 클러스터 지도 저장 완료: company_address_map.html\")\n"
   ]
  },
  {
   "cell_type": "code",
   "execution_count": 5,
   "id": "1bd5400b",
   "metadata": {},
   "outputs": [
    {
     "name": "stdout",
     "output_type": "stream",
     "text": [
      "✅ 저장 완료: 서울_지하철역_혼잡도_기업수.html\n"
     ]
    }
   ],
   "source": [
    "from geopy.distance import geodesic\n",
    "import pandas as pd\n",
    "import folium\n",
    "\n",
    "# --------------------------\n",
    "# 데이터 불러오기 및 전처리\n",
    "# --------------------------\n",
    "# 1. 상위 30개 혼잡 역 (위경도 포함)\n",
    "toprank_df = pd.read_csv(\"../data/subway_complexity_toprank_대표호선.csv\", encoding='utf-8')\n",
    "coord_df = pd.read_csv(\"../data/지하철_1_8호선 역주소(위경도)_호선통합.csv\", encoding='euc-kr')\n",
    "addr_df = pd.read_csv(\"../data/지하철_역주소 및 전화번호_부기역명제거.csv\", encoding='euc-kr')\n",
    "addr_df = addr_df[['호선', '역명', '도로명주소']]\n",
    "merged_df = pd.merge(coord_df, addr_df, on='역명', how='left')\n",
    "filtered_df = merged_df[merged_df['도로명주소'].str.startswith('서울특별시', na=False)]\n",
    "toprank_df['total_commute'] = toprank_df['morning'] + toprank_df['evening']\n",
    "grouped_toprank = toprank_df.groupby('역명', as_index=False).agg({\n",
    "    'morning': 'sum', 'evening': 'sum', 'total_commute': 'sum'\n",
    "})\n",
    "top30_df = grouped_toprank.sort_values(by='total_commute', ascending=False).head(30)\n",
    "subway_df = pd.merge(top30_df, filtered_df, on='역명', how='inner')\n",
    "\n",
    "# 2. 기업 위치 데이터\n",
    "company_df = pd.read_csv(\"../data/Data_saramin_with_coordinates.csv\", encoding='utf-8')\n",
    "company_df['위도'] = pd.to_numeric(company_df['위도'], errors='coerce')\n",
    "company_df['경도'] = pd.to_numeric(company_df['경도'], errors='coerce')\n",
    "company_df = company_df.dropna(subset=['위도', '경도'])\n",
    "\n",
    "# --------------------------\n",
    "# 지도 생성\n",
    "# --------------------------\n",
    "m = folium.Map(location=[37.5665, 126.9780], zoom_start=12)\n",
    "\n",
    "# --------------------------\n",
    "# 각 지하철 역에 대해 기업 수 계산 + 마커 표시\n",
    "# --------------------------\n",
    "for _, row in subway_df.iterrows():\n",
    "    station_coord = (row['위도'], row['경도'])\n",
    "    station_name = row['역명']\n",
    "    morning = row['morning']\n",
    "    evening = row['evening']\n",
    "    total_commute = row['total_commute']\n",
    "\n",
    "    # ✅ 600m 이내 기업 수 계산\n",
    "    radius_m = 600\n",
    "    nearby_count = company_df.apply(\n",
    "        lambda x: geodesic(station_coord, (x['위도'], x['경도'])).meters <= radius_m,\n",
    "        axis=1\n",
    "    ).sum()\n",
    "\n",
    "    # 마커 팝업 텍스트\n",
    "    popup_text = f\"\"\"\n",
    "    <b>{station_name}</b><br>\n",
    "    출근: {morning:,}명<br>\n",
    "    퇴근: {evening:,}명<br>\n",
    "    합계: {total_commute:,}명<br>\n",
    "    <b>기업 수 (600m 이내):</b> {nearby_count}개\n",
    "    \"\"\"\n",
    "\n",
    "    folium.Circle(\n",
    "        location=station_coord,\n",
    "        radius=radius_m,\n",
    "        color=\"red\",\n",
    "        fill=True,\n",
    "        fill_color=\"red\",\n",
    "        fill_opacity=0.1,\n",
    "        popup=folium.Popup(popup_text, max_width=300)\n",
    "    ).add_to(m)\n",
    "\n",
    "# --------------------------\n",
    "# 저장\n",
    "# --------------------------\n",
    "m.save(\"서울_지하철역_혼잡도_기업수.html\")\n",
    "print(\"✅ 저장 완료: 서울_지하철역_혼잡도_기업수.html\")\n"
   ]
  }
 ],
 "metadata": {
  "kernelspec": {
   "display_name": "eda_venv",
   "language": "python",
   "name": "python3"
  },
  "language_info": {
   "codemirror_mode": {
    "name": "ipython",
    "version": 3
   },
   "file_extension": ".py",
   "mimetype": "text/x-python",
   "name": "python",
   "nbconvert_exporter": "python",
   "pygments_lexer": "ipython3",
   "version": "3.12.3"
  }
 },
 "nbformat": 4,
 "nbformat_minor": 5
}
