{
 "cells": [
  {
   "cell_type": "code",
   "execution_count": 1,
   "id": "ec6b15ac",
   "metadata": {},
   "outputs": [
    {
     "data": {
      "text/html": [
       "<div>\n",
       "<style scoped>\n",
       "    .dataframe tbody tr th:only-of-type {\n",
       "        vertical-align: middle;\n",
       "    }\n",
       "\n",
       "    .dataframe tbody tr th {\n",
       "        vertical-align: top;\n",
       "    }\n",
       "\n",
       "    .dataframe thead th {\n",
       "        text-align: right;\n",
       "    }\n",
       "</style>\n",
       "<table border=\"1\" class=\"dataframe\">\n",
       "  <thead>\n",
       "    <tr style=\"text-align: right;\">\n",
       "      <th></th>\n",
       "      <th>호선</th>\n",
       "      <th>역명</th>\n",
       "      <th>구주소</th>\n",
       "      <th>도로명주소</th>\n",
       "      <th>전화번호</th>\n",
       "    </tr>\n",
       "  </thead>\n",
       "  <tbody>\n",
       "    <tr>\n",
       "      <th>0</th>\n",
       "      <td>1호선</td>\n",
       "      <td>서울</td>\n",
       "      <td>서울특별시 중구 남대문로5가 73-6 서울역(1호선)</td>\n",
       "      <td>서울특별시 중구 세종대로 지하2(남대문로 5가)</td>\n",
       "      <td>02-6110-1331</td>\n",
       "    </tr>\n",
       "    <tr>\n",
       "      <th>1</th>\n",
       "      <td>1호선</td>\n",
       "      <td>시청</td>\n",
       "      <td>서울특별시 중구 정동 5-5 시청역(1호선)</td>\n",
       "      <td>서울특별시 중구 세종대로 지하101(정동)</td>\n",
       "      <td>02-6110-1321</td>\n",
       "    </tr>\n",
       "    <tr>\n",
       "      <th>2</th>\n",
       "      <td>1호선</td>\n",
       "      <td>종각</td>\n",
       "      <td>서울특별시 종로구 종로1가 54 종각역(1호선)</td>\n",
       "      <td>서울특별시 종로구 종로 지하55(종로1가)</td>\n",
       "      <td>02-6110-1311</td>\n",
       "    </tr>\n",
       "    <tr>\n",
       "      <th>3</th>\n",
       "      <td>1호선</td>\n",
       "      <td>종로3가</td>\n",
       "      <td>서울특별시 종로구 종로3가 10-5 종로3가역(1호선)</td>\n",
       "      <td>서울특별시 종로구 종로 지하129(종로3가)</td>\n",
       "      <td>02-6110-1301</td>\n",
       "    </tr>\n",
       "    <tr>\n",
       "      <th>4</th>\n",
       "      <td>1호선</td>\n",
       "      <td>종로5가</td>\n",
       "      <td>서울특별시 종로구 종로5가 82-1 종로5가역(1호선)</td>\n",
       "      <td>서울특별시 종로구 종로 지하216(종로5가)</td>\n",
       "      <td>02-6110-1291</td>\n",
       "    </tr>\n",
       "    <tr>\n",
       "      <th>...</th>\n",
       "      <td>...</td>\n",
       "      <td>...</td>\n",
       "      <td>...</td>\n",
       "      <td>...</td>\n",
       "      <td>...</td>\n",
       "    </tr>\n",
       "    <tr>\n",
       "      <th>284</th>\n",
       "      <td>9호선</td>\n",
       "      <td>송파나루</td>\n",
       "      <td>서울특별시 송파구 방이동 2 송파나루역(9호선)</td>\n",
       "      <td>서울특별시 송파구 백제고분로 지하446(방이동)</td>\n",
       "      <td>02-2656-0934</td>\n",
       "    </tr>\n",
       "    <tr>\n",
       "      <th>285</th>\n",
       "      <td>9호선</td>\n",
       "      <td>한성백제</td>\n",
       "      <td>서울특별시 송파구 방이동 88-17 한성백제역(9호선)</td>\n",
       "      <td>서울특별시 송파구 위례성대로 지하29(방이동)</td>\n",
       "      <td>02-2656-0935</td>\n",
       "    </tr>\n",
       "    <tr>\n",
       "      <th>286</th>\n",
       "      <td>9호선</td>\n",
       "      <td>올림픽공원(한국체대)</td>\n",
       "      <td>서울특별시 송파구 방이동 89-28 올림픽공원역(9호선)</td>\n",
       "      <td>서울특별시 송파구 양재대로 지하1233(방이동)</td>\n",
       "      <td>02-2656-0936</td>\n",
       "    </tr>\n",
       "    <tr>\n",
       "      <th>287</th>\n",
       "      <td>9호선</td>\n",
       "      <td>둔촌오륜</td>\n",
       "      <td>서울특별시 강동구 둔촌동 227-7 둔촌오륜역(9호선)</td>\n",
       "      <td>서울특별시 강동구 강동대로 지하303(둔촌동)</td>\n",
       "      <td>02-2656-0937</td>\n",
       "    </tr>\n",
       "    <tr>\n",
       "      <th>288</th>\n",
       "      <td>9호선</td>\n",
       "      <td>중앙보훈병원</td>\n",
       "      <td>서울특별시 강동구 둔촌동 8-1 중앙보훈병원역(9호선)</td>\n",
       "      <td>서울특별시 강동구 동남로 지하625(둔촌동)</td>\n",
       "      <td>02-2656-0938</td>\n",
       "    </tr>\n",
       "  </tbody>\n",
       "</table>\n",
       "<p>289 rows × 5 columns</p>\n",
       "</div>"
      ],
      "text/plain": [
       "      호선           역명                              구주소  \\\n",
       "0    1호선           서울    서울특별시 중구 남대문로5가 73-6 서울역(1호선)   \n",
       "1    1호선           시청         서울특별시 중구 정동 5-5 시청역(1호선)   \n",
       "2    1호선           종각       서울특별시 종로구 종로1가 54 종각역(1호선)   \n",
       "3    1호선         종로3가   서울특별시 종로구 종로3가 10-5 종로3가역(1호선)   \n",
       "4    1호선         종로5가   서울특별시 종로구 종로5가 82-1 종로5가역(1호선)   \n",
       "..   ...          ...                              ...   \n",
       "284  9호선         송파나루       서울특별시 송파구 방이동 2 송파나루역(9호선)   \n",
       "285  9호선         한성백제   서울특별시 송파구 방이동 88-17 한성백제역(9호선)   \n",
       "286  9호선  올림픽공원(한국체대)  서울특별시 송파구 방이동 89-28 올림픽공원역(9호선)   \n",
       "287  9호선         둔촌오륜   서울특별시 강동구 둔촌동 227-7 둔촌오륜역(9호선)   \n",
       "288  9호선       중앙보훈병원   서울특별시 강동구 둔촌동 8-1 중앙보훈병원역(9호선)   \n",
       "\n",
       "                          도로명주소          전화번호  \n",
       "0    서울특별시 중구 세종대로 지하2(남대문로 5가)  02-6110-1331  \n",
       "1       서울특별시 중구 세종대로 지하101(정동)  02-6110-1321  \n",
       "2       서울특별시 종로구 종로 지하55(종로1가)  02-6110-1311  \n",
       "3      서울특별시 종로구 종로 지하129(종로3가)  02-6110-1301  \n",
       "4      서울특별시 종로구 종로 지하216(종로5가)  02-6110-1291  \n",
       "..                          ...           ...  \n",
       "284  서울특별시 송파구 백제고분로 지하446(방이동)  02-2656-0934  \n",
       "285   서울특별시 송파구 위례성대로 지하29(방이동)  02-2656-0935  \n",
       "286  서울특별시 송파구 양재대로 지하1233(방이동)  02-2656-0936  \n",
       "287   서울특별시 강동구 강동대로 지하303(둔촌동)  02-2656-0937  \n",
       "288    서울특별시 강동구 동남로 지하625(둔촌동)  02-2656-0938  \n",
       "\n",
       "[289 rows x 5 columns]"
      ]
     },
     "execution_count": 1,
     "metadata": {},
     "output_type": "execute_result"
    }
   ],
   "source": [
    "import pandas as pd\n",
    "\n",
    "data_address = pd.read_csv(\"../data/지하철_역주소 및 전화번호.csv\", encoding = 'euc-kr')\n",
    "data_address"
   ]
  },
  {
   "cell_type": "code",
   "execution_count": 2,
   "id": "92c282d0",
   "metadata": {},
   "outputs": [
    {
     "name": "stdout",
     "output_type": "stream",
     "text": [
      "호선\n",
      "5호선    56\n",
      "2호선    50\n",
      "7호선    42\n",
      "6호선    39\n",
      "3호선    34\n",
      "4호선    26\n",
      "8호선    19\n",
      "9호선    13\n",
      "1호선    10\n",
      "Name: count, dtype: int64\n"
     ]
    }
   ],
   "source": [
    "print(data_address['호선'].value_counts())"
   ]
  },
  {
   "cell_type": "code",
   "execution_count": 3,
   "id": "5d1b6c02",
   "metadata": {},
   "outputs": [
    {
     "name": "stdout",
     "output_type": "stream",
     "text": [
      "9호선 역의 개수: 13\n"
     ]
    }
   ],
   "source": [
    "count_9호선 = data_address[data_address['호선'] == '9호선'].shape[0]\n",
    "\n",
    "print(f\"9호선 역의 개수: {count_9호선}\")"
   ]
  },
  {
   "cell_type": "code",
   "execution_count": 4,
   "id": "072a9a2c",
   "metadata": {},
   "outputs": [
    {
     "name": "stdout",
     "output_type": "stream",
     "text": [
      "      호선      역명\n",
      "0    1호선      서울\n",
      "1    1호선      시청\n",
      "2    1호선      종각\n",
      "3    1호선    종로3가\n",
      "4    1호선    종로5가\n",
      "..   ...     ...\n",
      "271  8호선  남한산성입구\n",
      "272  8호선   단대오거리\n",
      "273  8호선      신흥\n",
      "274  8호선      수진\n",
      "275  8호선      모란\n",
      "\n",
      "[276 rows x 2 columns]\n"
     ]
    }
   ],
   "source": [
    "# 괄호 및 괄호 안 텍스트 제거\n",
    "data_address['역명'] = data_address['역명'].str.replace(r'\\(.*?\\)', '', regex=True).str.strip()\n",
    "data_address = data_address[data_address['호선'] != '9호선']\n",
    "\n",
    "# 결과 출력\n",
    "print(data_address[['호선', '역명']])"
   ]
  },
  {
   "cell_type": "code",
   "execution_count": 5,
   "id": "301cdeab",
   "metadata": {},
   "outputs": [
    {
     "name": "stdout",
     "output_type": "stream",
     "text": [
      "[괄호가 포함된 역명 전체]\n",
      "Empty DataFrame\n",
      "Columns: [역명]\n",
      "Index: []\n"
     ]
    },
    {
     "name": "stderr",
     "output_type": "stream",
     "text": [
      "<>:1: SyntaxWarning: invalid escape sequence '\\('\n",
      "<>:1: SyntaxWarning: invalid escape sequence '\\('\n",
      "/tmp/ipykernel_4602/1374336213.py:1: SyntaxWarning: invalid escape sequence '\\('\n",
      "  result = data_address[data_address['역명'].str.contains('\\(.*\\)', regex=True)]\n"
     ]
    }
   ],
   "source": [
    "result = data_address[data_address['역명'].str.contains('\\(.*\\)', regex=True)]\n",
    "\n",
    "# 결과 출력\n",
    "print(\"[괄호가 포함된 역명 전체]\")\n",
    "print(result[['역명']])\n",
    "\n"
   ]
  },
  {
   "cell_type": "code",
   "execution_count": null,
   "id": "13c70ef2",
   "metadata": {},
   "outputs": [],
   "source": [
    "import pandas as pd\n",
    "\n",
    "data_address_latlng = pd.read_csv(\"../data/지하철_1_8호선 역주소(위경도) 좌표 정보.csv\", encoding = 'euc-kr')\n",
    "data_address_latlng"
   ]
  },
  {
   "cell_type": "code",
   "execution_count": null,
   "id": "b1373778",
   "metadata": {},
   "outputs": [],
   "source": [
    "import folium\n",
    "import pandas as pd\n",
    "\n",
    "# CSV 파일에서 지하철 역 데이터 불러오기\n",
    "data_address_latlng = pd.read_csv(\"../data/지하철_1_8호선 역주소(위경도) 좌표 정보.csv\", encoding = 'euc-kr') # 파일명은 알맞게 수정\n",
    "\n",
    "# 지도 중심 좌표 설정 (서울 시청 기준)\n",
    "m = folium.Map(location=[37.5665, 126.9780], zoom_start=12)\n",
    "\n",
    "# 각 지하철역에 대해 Circle 마커 생성\n",
    "for _, row in data_address_latlng.iterrows():\n",
    "    lat = row['위도']\n",
    "    lon = row['경도']\n",
    "    station_name = str(row['역명'])[:2]  # 역 이름 앞 2글자\n",
    "    folium.Circle(\n",
    "        location=[lat, lon],\n",
    "        radius=700,  # 반지름 (단위: meter)\n",
    "        color='skyblue',\n",
    "        fill=True,\n",
    "        fill_color='skyblue',\n",
    "        fill_opacity=0.1,\n",
    "        popup=station_name\n",
    "    ).add_to(m)\n",
    "m\n",
    "\n",
    "# HTML로 저장 또는 노트북에서 직접 출력\n",
    "#m.save(\"subway_map.html\")\n"
   ]
  }
 ],
 "metadata": {
  "kernelspec": {
   "display_name": "eda_venv",
   "language": "python",
   "name": "python3"
  },
  "language_info": {
   "codemirror_mode": {
    "name": "ipython",
    "version": 3
   },
   "file_extension": ".py",
   "mimetype": "text/x-python",
   "name": "python",
   "nbconvert_exporter": "python",
   "pygments_lexer": "ipython3",
   "version": "3.12.3"
  }
 },
 "nbformat": 4,
 "nbformat_minor": 5
}
