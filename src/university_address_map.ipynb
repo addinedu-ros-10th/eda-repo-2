{
 "cells": [
  {
   "cell_type": "code",
   "execution_count": 4,
   "id": "058563ca",
   "metadata": {},
   "outputs": [
    {
     "name": "stdout",
     "output_type": "stream",
     "text": [
      "✅ 저장 완료: 서울시_대학교_주소.html\n"
     ]
    }
   ],
   "source": [
    "import pandas as pd\n",
    "import folium\n",
    "\n",
    "# 1. 파일 불러오기\n",
    "university_df = pd.read_csv(\"../data/Data_University_with_coordinates.csv\", encoding='utf-8')\n",
    "\n",
    "# (선택) NaN이나 좌표 추출 실패한 행 제거\n",
    "university_df = university_df[~university_df['위도'].astype(str).str.contains('좌표 추출 실패')]\n",
    "university_df = university_df[~university_df['경도'].astype(str).str.contains('좌표 추출 실패')]\n",
    "university_df['위도'] = pd.to_numeric(university_df['위도'], errors='coerce')\n",
    "university_df['경도'] = pd.to_numeric(university_df['경도'], errors='coerce')\n",
    "university_df = university_df.dropna(subset=['위도', '경도'])\n",
    "\n",
    "# 2. 지도 생성\n",
    "m = folium.Map(location=[37.5665, 126.9780], zoom_start=12)\n",
    "\n",
    "# 3. 일반 마커 추가 (대학명 팝업)\n",
    "for _, row in university_df.iterrows():\n",
    "    lat = row['위도']\n",
    "    lon = row['경도']\n",
    "    university_name = row['대학명']\n",
    "\n",
    "    folium.Marker(\n",
    "        location=[lat, lon],\n",
    "        popup=folium.Popup(f\"<b>{university_name}</b>\", max_width=300),\n",
    "        icon=folium.Icon(color='blue', icon='university', prefix='fa')\n",
    "    ).add_to(m)\n",
    "\n",
    "# 4. 지도 저장\n",
    "m.save(\"../data/서울시_대학교_주소.html\")\n",
    "print(\"✅ 저장 완료: 서울시_대학교_주소.html\")\n"
   ]
  }
 ],
 "metadata": {
  "kernelspec": {
   "display_name": "eda_venv",
   "language": "python",
   "name": "python3"
  },
  "language_info": {
   "codemirror_mode": {
    "name": "ipython",
    "version": 3
   },
   "file_extension": ".py",
   "mimetype": "text/x-python",
   "name": "python",
   "nbconvert_exporter": "python",
   "pygments_lexer": "ipython3",
   "version": "3.12.3"
  }
 },
 "nbformat": 4,
 "nbformat_minor": 5
}
