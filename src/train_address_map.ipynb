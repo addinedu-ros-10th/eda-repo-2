{
 "cells": [
  {
   "cell_type": "code",
   "execution_count": 2,
   "id": "2ff12cc7",
   "metadata": {},
   "outputs": [
    {
     "name": "stdout",
     "output_type": "stream",
     "text": [
      "✅ 저장 완료: 서울시_기차역_주소.html\n"
     ]
    }
   ],
   "source": [
    "import pandas as pd\n",
    "import folium\n",
    "\n",
    "# 1. 파일 불러오기\n",
    "train_df = pd.read_csv(\"../data/seoul_train_stations_coordinates.csv\", encoding='utf-8')\n",
    "\n",
    "# 2. 위도/경도 숫자형 변환 및 결측 제거\n",
    "train_df['위도'] = pd.to_numeric(train_df['위도'], errors='coerce')\n",
    "train_df['경도'] = pd.to_numeric(train_df['경도'], errors='coerce')\n",
    "train_df = train_df.dropna(subset=['위도', '경도'])\n",
    "\n",
    "# 3. 지도 생성\n",
    "m = folium.Map(location=[37.5665, 126.9780], zoom_start=12)\n",
    "\n",
    "# 4. 마커 추가\n",
    "for _, row in train_df.iterrows():\n",
    "    lat = row['위도']\n",
    "    lon = row['경도']\n",
    "    train_name = row['역이름']  # 또는 실제 열 이름 확인 필요\n",
    "\n",
    "    folium.Marker(\n",
    "        location=[lat, lon],\n",
    "        popup=folium.Popup(f\"<기차역> {train_name}\", max_width=300),\n",
    "        icon=folium.Icon(color='orange', icon='train', prefix='fa')\n",
    "    ).add_to(m)\n",
    "\n",
    "# 5. 저장\n",
    "m.save(\"../data/서울시_기차역_주소.html\")\n",
    "print(\"✅ 저장 완료: 서울시_기차역_주소.html\")\n"
   ]
  }
 ],
 "metadata": {
  "kernelspec": {
   "display_name": "eda_venv",
   "language": "python",
   "name": "python3"
  },
  "language_info": {
   "codemirror_mode": {
    "name": "ipython",
    "version": 3
   },
   "file_extension": ".py",
   "mimetype": "text/x-python",
   "name": "python",
   "nbconvert_exporter": "python",
   "pygments_lexer": "ipython3",
   "version": "3.12.3"
  }
 },
 "nbformat": 4,
 "nbformat_minor": 5
}
