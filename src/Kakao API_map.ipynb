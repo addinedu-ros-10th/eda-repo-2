{
 "cells": [
  {
   "cell_type": "code",
   "execution_count": 8,
   "id": "755bb371",
   "metadata": {},
   "outputs": [
    {
     "name": "stdout",
     "output_type": "stream",
     "text": [
      "✅ 클러스터 지도 저장 완료: company_address_map.html\n"
     ]
    }
   ],
   "source": [
    "from folium.plugins import MarkerCluster\n",
    "import pandas as pd\n",
    "import folium\n",
    "\n",
    "# 데이터 로딩\n",
    "df = pd.read_csv(\"../data/Data_saramin_with_coordinates.csv\", encoding='utf-8')\n",
    "df['위도'] = pd.to_numeric(df['위도'], errors='coerce')\n",
    "df['경도'] = pd.to_numeric(df['경도'], errors='coerce')\n",
    "df_valid = df.dropna(subset=['위도', '경도'])\n",
    "\n",
    "# 지도 초기화\n",
    "map_center = df_valid[['위도', '경도']].mean().tolist()\n",
    "m = folium.Map(location=map_center, zoom_start=11)\n",
    "\n",
    "# 클러스터 생성\n",
    "marker_cluster = MarkerCluster().add_to(m)\n",
    "\n",
    "# 마커 추가 (클러스터에)\n",
    "for idx, row in df_valid.iterrows():\n",
    "    lat, lon = row['위도'], row['경도']\n",
    "    address = row.get('주소', '주소 없음')\n",
    "\n",
    "    folium.Marker(\n",
    "        [lat, lon]\n",
    "        #popup=f\"Index: {idx}<br>주소: {address}\",\n",
    "        #tooltip=address\n",
    "    ).add_to(marker_cluster)\n",
    "\n",
    "# 저장\n",
    "m.save(\"company_address_map.html\")\n",
    "print(\"✅ 클러스터 지도 저장 완료: company_address_map.html\")\n"
   ]
  }
 ],
 "metadata": {
  "kernelspec": {
   "display_name": "eda_venv",
   "language": "python",
   "name": "python3"
  },
  "language_info": {
   "codemirror_mode": {
    "name": "ipython",
    "version": 3
   },
   "file_extension": ".py",
   "mimetype": "text/x-python",
   "name": "python",
   "nbconvert_exporter": "python",
   "pygments_lexer": "ipython3",
   "version": "3.12.3"
  }
 },
 "nbformat": 4,
 "nbformat_minor": 5
}
