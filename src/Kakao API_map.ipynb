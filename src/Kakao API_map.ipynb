{
 "cells": [
  {
   "cell_type": "code",
   "execution_count": null,
   "id": "42c875f4",
   "metadata": {},
   "outputs": [],
   "source": [
    "import pandas as pd\n",
    "import requests\n",
    "import time\n",
    "\n",
    "# ✅ 카카오 REST API 키 입력\n",
    "KAKAO_API_KEY = ''\n",
    "\n",
    "# ✅ 주소 → 좌표 변환 함수\n",
    "def get_coordinates(address):\n",
    "    url = \"https://dapi.kakao.com/v2/local/search/address.json\"\n",
    "    headers = {\"Authorization\": f\"KakaoAK {KAKAO_API_KEY}\"}\n",
    "    params = {\"query\": address}\n",
    "    response = requests.get(url, headers=headers, params=params)\n",
    "\n",
    "    if response.status_code != 200:\n",
    "        #200은 성공 코드값\n",
    "        return None, None\n",
    "\n",
    "    result = response.json()\n",
    "    documents = result.get(\"documents\", [])\n",
    "    if documents:\n",
    "        x = float(documents[0][\"x\"])  # 경도\n",
    "        y = float(documents[0][\"y\"])  # 위도\n",
    "        return y, x\n",
    "    return None, None\n",
    "\n",
    "# ✅ 주소 목록 CSV 파일 불러오기\n",
    "df = pd.read_csv(\"input.csv\")  # 주소가 들어 있는 열 이름은 '주소'라고 가정\n",
    "\n",
    "# ✅ 위도, 경도 컬럼 추가\n",
    "lat_list = []\n",
    "lon_list = []\n",
    "\n",
    "for address in df['주소']:\n",
    "    lat, lon = get_coordinates(address)\n",
    "    lat_list.append(lat)\n",
    "    lon_list.append(lon)\n",
    "    time.sleep(0.2)  # 과도한 요청 방지를 위해 0.2초 지연\n",
    "\n",
    "df['위도'] = lat_list\n",
    "df['경도'] = lon_list\n",
    "\n",
    "# ✅ 결과 저장\n",
    "df.to_csv(\"Data_saramin_with_coordinates.csv\", index=False, encoding='utf-8-sig')\n",
    "print(\"완료: Data_saramin_with_coordinates.csv 저장됨\")\n"
   ]
  },
  {
   "cell_type": "code",
   "execution_count": null,
   "id": "755bb371",
   "metadata": {},
   "outputs": [
    {
     "name": "stdout",
     "output_type": "stream",
     "text": [
      "✅ 클러스터 지도 저장 완료: company_clustered_map.html\n"
     ]
    }
   ],
   "source": [
    "from folium.plugins import MarkerCluster\n",
    "import pandas as pd\n",
    "import folium\n",
    "\n",
    "# 데이터 로딩\n",
    "df = pd.read_csv(\"../data/Data_saramin_with_coordinates.csv\", encoding='utf-8')\n",
    "df['위도'] = pd.to_numeric(df['위도'], errors='coerce')\n",
    "df['경도'] = pd.to_numeric(df['경도'], errors='coerce')\n",
    "df_valid = df.dropna(subset=['위도', '경도'])\n",
    "\n",
    "# 지도 초기화\n",
    "map_center = df_valid[['위도', '경도']].mean().tolist()\n",
    "m = folium.Map(location=map_center, zoom_start=11)\n",
    "\n",
    "# 클러스터 생성\n",
    "marker_cluster = MarkerCluster().add_to(m)\n",
    "\n",
    "# 마커 추가 (클러스터에)\n",
    "for idx, row in df_valid.iterrows():\n",
    "    lat, lon = row['위도'], row['경도']\n",
    "    address = row.get('주소', '주소 없음')\n",
    "\n",
    "    folium.Marker(\n",
    "        [lat, lon]\n",
    "        #popup=f\"Index: {idx}<br>주소: {address}\",\n",
    "        #tooltip=address\n",
    "    ).add_to(marker_cluster)\n",
    "\n",
    "# 저장\n",
    "m.save(\"company_address_map.html\")\n",
    "print(\"✅ 클러스터 지도 저장 완료: company_address_map.html\")\n"
   ]
  }
 ],
 "metadata": {
  "kernelspec": {
   "display_name": "eda_venv",
   "language": "python",
   "name": "python3"
  },
  "language_info": {
   "codemirror_mode": {
    "name": "ipython",
    "version": 3
   },
   "file_extension": ".py",
   "mimetype": "text/x-python",
   "name": "python",
   "nbconvert_exporter": "python",
   "pygments_lexer": "ipython3",
   "version": "3.12.3"
  }
 },
 "nbformat": 4,
 "nbformat_minor": 5
}
